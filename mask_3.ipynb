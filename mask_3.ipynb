{
  "nbformat": 4,
  "nbformat_minor": 0,
  "metadata": {
    "colab": {
      "name": "mask_3",
      "provenance": [],
      "collapsed_sections": [],
      "mount_file_id": "14YdxWwVZpelS90YG12aWbJOI-oUUWT5f",
      "authorship_tag": "ABX9TyN9b7W52YgXqni9YG6dIhm/",
      "include_colab_link": true
    },
    "kernelspec": {
      "name": "python3",
      "display_name": "Python 3"
    },
    "widgets": {
      "application/vnd.jupyter.widget-state+json": {
        "b95e4611735342b8995bc033ec20595a": {
          "model_module": "@jupyter-widgets/controls",
          "model_name": "HBoxModel",
          "state": {
            "_view_name": "HBoxView",
            "_dom_classes": [],
            "_model_name": "HBoxModel",
            "_view_module": "@jupyter-widgets/controls",
            "_model_module_version": "1.5.0",
            "_view_count": null,
            "_view_module_version": "1.5.0",
            "box_style": "",
            "layout": "IPY_MODEL_6e8fdd998f2d4f728808e2901ba38812",
            "_model_module": "@jupyter-widgets/controls",
            "children": [
              "IPY_MODEL_52c2f24e2f2e477c97ca52bd518f2877",
              "IPY_MODEL_244c8ba22d6844b89b5bf804d020b7fc"
            ]
          }
        },
        "6e8fdd998f2d4f728808e2901ba38812": {
          "model_module": "@jupyter-widgets/base",
          "model_name": "LayoutModel",
          "state": {
            "_view_name": "LayoutView",
            "grid_template_rows": null,
            "right": null,
            "justify_content": null,
            "_view_module": "@jupyter-widgets/base",
            "overflow": null,
            "_model_module_version": "1.2.0",
            "_view_count": null,
            "flex_flow": null,
            "width": null,
            "min_width": null,
            "border": null,
            "align_items": null,
            "bottom": null,
            "_model_module": "@jupyter-widgets/base",
            "top": null,
            "grid_column": null,
            "overflow_y": null,
            "overflow_x": null,
            "grid_auto_flow": null,
            "grid_area": null,
            "grid_template_columns": null,
            "flex": null,
            "_model_name": "LayoutModel",
            "justify_items": null,
            "grid_row": null,
            "max_height": null,
            "align_content": null,
            "visibility": null,
            "align_self": null,
            "height": null,
            "min_height": null,
            "padding": null,
            "grid_auto_rows": null,
            "grid_gap": null,
            "max_width": null,
            "order": null,
            "_view_module_version": "1.2.0",
            "grid_template_areas": null,
            "object_position": null,
            "object_fit": null,
            "grid_auto_columns": null,
            "margin": null,
            "display": null,
            "left": null
          }
        },
        "52c2f24e2f2e477c97ca52bd518f2877": {
          "model_module": "@jupyter-widgets/controls",
          "model_name": "IntProgressModel",
          "state": {
            "_view_name": "ProgressView",
            "style": "IPY_MODEL_6e838bf5abbf4e529d41904891cd41cf",
            "_dom_classes": [],
            "description": "100%",
            "_model_name": "IntProgressModel",
            "bar_style": "success",
            "max": 46827520,
            "_view_module": "@jupyter-widgets/controls",
            "_model_module_version": "1.5.0",
            "value": 46827520,
            "_view_count": null,
            "_view_module_version": "1.5.0",
            "orientation": "horizontal",
            "min": 0,
            "description_tooltip": null,
            "_model_module": "@jupyter-widgets/controls",
            "layout": "IPY_MODEL_379e74b88bce48869122ab7ab0b09703"
          }
        },
        "244c8ba22d6844b89b5bf804d020b7fc": {
          "model_module": "@jupyter-widgets/controls",
          "model_name": "HTMLModel",
          "state": {
            "_view_name": "HTMLView",
            "style": "IPY_MODEL_fd92c05573a444988300f5307ecd1861",
            "_dom_classes": [],
            "description": "",
            "_model_name": "HTMLModel",
            "placeholder": "​",
            "_view_module": "@jupyter-widgets/controls",
            "_model_module_version": "1.5.0",
            "value": " 44.7M/44.7M [11:21&lt;00:00, 68.7kB/s]",
            "_view_count": null,
            "_view_module_version": "1.5.0",
            "description_tooltip": null,
            "_model_module": "@jupyter-widgets/controls",
            "layout": "IPY_MODEL_5cdce438547941ef8cdffa264cd0f8c9"
          }
        },
        "6e838bf5abbf4e529d41904891cd41cf": {
          "model_module": "@jupyter-widgets/controls",
          "model_name": "ProgressStyleModel",
          "state": {
            "_view_name": "StyleView",
            "_model_name": "ProgressStyleModel",
            "description_width": "initial",
            "_view_module": "@jupyter-widgets/base",
            "_model_module_version": "1.5.0",
            "_view_count": null,
            "_view_module_version": "1.2.0",
            "bar_color": null,
            "_model_module": "@jupyter-widgets/controls"
          }
        },
        "379e74b88bce48869122ab7ab0b09703": {
          "model_module": "@jupyter-widgets/base",
          "model_name": "LayoutModel",
          "state": {
            "_view_name": "LayoutView",
            "grid_template_rows": null,
            "right": null,
            "justify_content": null,
            "_view_module": "@jupyter-widgets/base",
            "overflow": null,
            "_model_module_version": "1.2.0",
            "_view_count": null,
            "flex_flow": null,
            "width": null,
            "min_width": null,
            "border": null,
            "align_items": null,
            "bottom": null,
            "_model_module": "@jupyter-widgets/base",
            "top": null,
            "grid_column": null,
            "overflow_y": null,
            "overflow_x": null,
            "grid_auto_flow": null,
            "grid_area": null,
            "grid_template_columns": null,
            "flex": null,
            "_model_name": "LayoutModel",
            "justify_items": null,
            "grid_row": null,
            "max_height": null,
            "align_content": null,
            "visibility": null,
            "align_self": null,
            "height": null,
            "min_height": null,
            "padding": null,
            "grid_auto_rows": null,
            "grid_gap": null,
            "max_width": null,
            "order": null,
            "_view_module_version": "1.2.0",
            "grid_template_areas": null,
            "object_position": null,
            "object_fit": null,
            "grid_auto_columns": null,
            "margin": null,
            "display": null,
            "left": null
          }
        },
        "fd92c05573a444988300f5307ecd1861": {
          "model_module": "@jupyter-widgets/controls",
          "model_name": "DescriptionStyleModel",
          "state": {
            "_view_name": "StyleView",
            "_model_name": "DescriptionStyleModel",
            "description_width": "",
            "_view_module": "@jupyter-widgets/base",
            "_model_module_version": "1.5.0",
            "_view_count": null,
            "_view_module_version": "1.2.0",
            "_model_module": "@jupyter-widgets/controls"
          }
        },
        "5cdce438547941ef8cdffa264cd0f8c9": {
          "model_module": "@jupyter-widgets/base",
          "model_name": "LayoutModel",
          "state": {
            "_view_name": "LayoutView",
            "grid_template_rows": null,
            "right": null,
            "justify_content": null,
            "_view_module": "@jupyter-widgets/base",
            "overflow": null,
            "_model_module_version": "1.2.0",
            "_view_count": null,
            "flex_flow": null,
            "width": null,
            "min_width": null,
            "border": null,
            "align_items": null,
            "bottom": null,
            "_model_module": "@jupyter-widgets/base",
            "top": null,
            "grid_column": null,
            "overflow_y": null,
            "overflow_x": null,
            "grid_auto_flow": null,
            "grid_area": null,
            "grid_template_columns": null,
            "flex": null,
            "_model_name": "LayoutModel",
            "justify_items": null,
            "grid_row": null,
            "max_height": null,
            "align_content": null,
            "visibility": null,
            "align_self": null,
            "height": null,
            "min_height": null,
            "padding": null,
            "grid_auto_rows": null,
            "grid_gap": null,
            "max_width": null,
            "order": null,
            "_view_module_version": "1.2.0",
            "grid_template_areas": null,
            "object_position": null,
            "object_fit": null,
            "grid_auto_columns": null,
            "margin": null,
            "display": null,
            "left": null
          }
        }
      }
    }
  },
  "cells": [
    {
      "cell_type": "markdown",
      "metadata": {
        "id": "view-in-github",
        "colab_type": "text"
      },
      "source": [
        "<a href=\"https://colab.research.google.com/github/oscarrobert-star/Spot-the-Mask-Challenge-by-ZindiWeekendz/blob/master/mask_3.ipynb\" target=\"_parent\"><img src=\"https://colab.research.google.com/assets/colab-badge.svg\" alt=\"Open In Colab\"/></a>"
      ]
    },
    {
      "cell_type": "markdown",
      "metadata": {
        "id": "bY-waTys7sHq",
        "colab_type": "text"
      },
      "source": [
        "# Importing the data into google colab"
      ]
    },
    {
      "cell_type": "code",
      "metadata": {
        "id": "UR1-ZNrf4lEG",
        "colab_type": "code",
        "outputId": "6ddc05cb-d145-47b6-d794-90dc446400c4",
        "colab": {
          "base_uri": "https://localhost:8080/",
          "height": 445
        }
      },
      "source": [
        "!wget -O images.zip --load-cookies /tmp/cookies.txt \"https://docs.google.com/uc?export=download&confirm=$(wget --quiet --save-cookies /tmp/cookies.txt --keep-session-cookies --no-check-certificate 'https://docs.google.com/uc?export=download&id=1vtO5_FB--urbF09XYoxbSAEQW-yqwoi6' -O- | sed -rn 's/.*confirm=([0-9A-Za-z_]+).*/\\1\\n/p')&id=1vtO5_FB--urbF09XYoxbSAEQW-yqwoi6\" && rm -rf /tmp/cookies.txt\n"
      ],
      "execution_count": 0,
      "outputs": [
        {
          "output_type": "stream",
          "text": [
            "--2020-04-19 21:52:16--  https://docs.google.com/uc?export=download&confirm=r4V1&id=1vtO5_FB--urbF09XYoxbSAEQW-yqwoi6\n",
            "Resolving docs.google.com (docs.google.com)... 172.217.214.113, 172.217.214.101, 172.217.214.100, ...\n",
            "Connecting to docs.google.com (docs.google.com)|172.217.214.113|:443... connected.\n",
            "HTTP request sent, awaiting response... 302 Moved Temporarily\n",
            "Location: https://doc-0c-bo-docs.googleusercontent.com/docs/securesc/rujj63knvuqqm06g4qg2r3o0p8bsml1i/v6e9i1ervccr1gj0v17nlk39lr87pl4j/1587333075000/12463928819926971683/01901429415479126530Z/1vtO5_FB--urbF09XYoxbSAEQW-yqwoi6?e=download [following]\n",
            "--2020-04-19 21:52:16--  https://doc-0c-bo-docs.googleusercontent.com/docs/securesc/rujj63knvuqqm06g4qg2r3o0p8bsml1i/v6e9i1ervccr1gj0v17nlk39lr87pl4j/1587333075000/12463928819926971683/01901429415479126530Z/1vtO5_FB--urbF09XYoxbSAEQW-yqwoi6?e=download\n",
            "Resolving doc-0c-bo-docs.googleusercontent.com (doc-0c-bo-docs.googleusercontent.com)... 74.125.124.132, 2607:f8b0:4001:c14::84\n",
            "Connecting to doc-0c-bo-docs.googleusercontent.com (doc-0c-bo-docs.googleusercontent.com)|74.125.124.132|:443... connected.\n",
            "HTTP request sent, awaiting response... 302 Found\n",
            "Location: https://docs.google.com/nonceSigner?nonce=qapj3nsc74g1o&continue=https://doc-0c-bo-docs.googleusercontent.com/docs/securesc/rujj63knvuqqm06g4qg2r3o0p8bsml1i/v6e9i1ervccr1gj0v17nlk39lr87pl4j/1587333075000/12463928819926971683/01901429415479126530Z/1vtO5_FB--urbF09XYoxbSAEQW-yqwoi6?e%3Ddownload&hash=tu6jqk7vhdtv4m4789ou13rm49kg5n2q [following]\n",
            "--2020-04-19 21:52:16--  https://docs.google.com/nonceSigner?nonce=qapj3nsc74g1o&continue=https://doc-0c-bo-docs.googleusercontent.com/docs/securesc/rujj63knvuqqm06g4qg2r3o0p8bsml1i/v6e9i1ervccr1gj0v17nlk39lr87pl4j/1587333075000/12463928819926971683/01901429415479126530Z/1vtO5_FB--urbF09XYoxbSAEQW-yqwoi6?e%3Ddownload&hash=tu6jqk7vhdtv4m4789ou13rm49kg5n2q\n",
            "Connecting to docs.google.com (docs.google.com)|172.217.214.113|:443... connected.\n",
            "HTTP request sent, awaiting response... 302 Found\n",
            "Location: https://doc-0c-bo-docs.googleusercontent.com/docs/securesc/rujj63knvuqqm06g4qg2r3o0p8bsml1i/v6e9i1ervccr1gj0v17nlk39lr87pl4j/1587333075000/12463928819926971683/01901429415479126530Z/1vtO5_FB--urbF09XYoxbSAEQW-yqwoi6?e=download&nonce=qapj3nsc74g1o&user=01901429415479126530Z&hash=ennheb6aaohlaqn40nr1d6vckcehsv6g [following]\n",
            "--2020-04-19 21:52:16--  https://doc-0c-bo-docs.googleusercontent.com/docs/securesc/rujj63knvuqqm06g4qg2r3o0p8bsml1i/v6e9i1ervccr1gj0v17nlk39lr87pl4j/1587333075000/12463928819926971683/01901429415479126530Z/1vtO5_FB--urbF09XYoxbSAEQW-yqwoi6?e=download&nonce=qapj3nsc74g1o&user=01901429415479126530Z&hash=ennheb6aaohlaqn40nr1d6vckcehsv6g\n",
            "Connecting to doc-0c-bo-docs.googleusercontent.com (doc-0c-bo-docs.googleusercontent.com)|74.125.124.132|:443... connected.\n",
            "HTTP request sent, awaiting response... 200 OK\n",
            "Length: unspecified [application/zip]\n",
            "Saving to: ‘images.zip’\n",
            "\n",
            "images.zip              [        <=>         ] 192.19M  30.3MB/s    in 7.1s    \n",
            "\n",
            "2020-04-19 21:52:23 (27.0 MB/s) - ‘images.zip’ saved [201531099]\n",
            "\n"
          ],
          "name": "stdout"
        }
      ]
    },
    {
      "cell_type": "code",
      "metadata": {
        "id": "TccBmkYN74Em",
        "colab_type": "code",
        "outputId": "ebc5f570-56e3-48fc-c03c-e31432f050a5",
        "colab": {
          "base_uri": "https://localhost:8080/",
          "height": 445
        }
      },
      "source": [
        "!wget -O train.csv --load-cookies /tmp/cookies.txt \"https://docs.google.com/uc?export=download&confirm=$(wget --quiet --save-cookies /tmp/cookies.txt --keep-session-cookies --no-check-certificate 'https://docs.google.com/uc?export=download&id=1XQ-RfUG1C_6LUZdRUe9nAU77I_AZFH-F' -O- | sed -rn 's/.*confirm=([0-9A-Za-z_]+).*/\\1\\n/p')&id=1XQ-RfUG1C_6LUZdRUe9nAU77I_AZFH-F\" && rm -rf /tmp/cookies.txt"
      ],
      "execution_count": 0,
      "outputs": [
        {
          "output_type": "stream",
          "text": [
            "--2020-04-19 21:52:30--  https://docs.google.com/uc?export=download&confirm=&id=1XQ-RfUG1C_6LUZdRUe9nAU77I_AZFH-F\n",
            "Resolving docs.google.com (docs.google.com)... 108.177.112.113, 108.177.112.138, 108.177.112.101, ...\n",
            "Connecting to docs.google.com (docs.google.com)|108.177.112.113|:443... connected.\n",
            "HTTP request sent, awaiting response... 302 Moved Temporarily\n",
            "Location: https://doc-0g-9g-docs.googleusercontent.com/docs/securesc/s8qoj8o6vflenm517lgki4ulc7t7umbe/ukajt3f3c0trltloc7povrdfc4cr2u1g/1587333150000/12463928819926971683/15613863901798042882Z/1XQ-RfUG1C_6LUZdRUe9nAU77I_AZFH-F?e=download [following]\n",
            "--2020-04-19 21:52:30--  https://doc-0g-9g-docs.googleusercontent.com/docs/securesc/s8qoj8o6vflenm517lgki4ulc7t7umbe/ukajt3f3c0trltloc7povrdfc4cr2u1g/1587333150000/12463928819926971683/15613863901798042882Z/1XQ-RfUG1C_6LUZdRUe9nAU77I_AZFH-F?e=download\n",
            "Resolving doc-0g-9g-docs.googleusercontent.com (doc-0g-9g-docs.googleusercontent.com)... 74.125.124.132, 2607:f8b0:4001:c14::84\n",
            "Connecting to doc-0g-9g-docs.googleusercontent.com (doc-0g-9g-docs.googleusercontent.com)|74.125.124.132|:443... connected.\n",
            "HTTP request sent, awaiting response... 302 Found\n",
            "Location: https://docs.google.com/nonceSigner?nonce=qhkff8t7nq330&continue=https://doc-0g-9g-docs.googleusercontent.com/docs/securesc/s8qoj8o6vflenm517lgki4ulc7t7umbe/ukajt3f3c0trltloc7povrdfc4cr2u1g/1587333150000/12463928819926971683/15613863901798042882Z/1XQ-RfUG1C_6LUZdRUe9nAU77I_AZFH-F?e%3Ddownload&hash=qj5rgi2l14iijr799dlp98cig6ckkkch [following]\n",
            "--2020-04-19 21:52:30--  https://docs.google.com/nonceSigner?nonce=qhkff8t7nq330&continue=https://doc-0g-9g-docs.googleusercontent.com/docs/securesc/s8qoj8o6vflenm517lgki4ulc7t7umbe/ukajt3f3c0trltloc7povrdfc4cr2u1g/1587333150000/12463928819926971683/15613863901798042882Z/1XQ-RfUG1C_6LUZdRUe9nAU77I_AZFH-F?e%3Ddownload&hash=qj5rgi2l14iijr799dlp98cig6ckkkch\n",
            "Connecting to docs.google.com (docs.google.com)|108.177.112.113|:443... connected.\n",
            "HTTP request sent, awaiting response... 302 Found\n",
            "Location: https://doc-0g-9g-docs.googleusercontent.com/docs/securesc/s8qoj8o6vflenm517lgki4ulc7t7umbe/ukajt3f3c0trltloc7povrdfc4cr2u1g/1587333150000/12463928819926971683/15613863901798042882Z/1XQ-RfUG1C_6LUZdRUe9nAU77I_AZFH-F?e=download&nonce=qhkff8t7nq330&user=15613863901798042882Z&hash=36kjsqvss8uke2rlcj3aqafndjubng8s [following]\n",
            "--2020-04-19 21:52:31--  https://doc-0g-9g-docs.googleusercontent.com/docs/securesc/s8qoj8o6vflenm517lgki4ulc7t7umbe/ukajt3f3c0trltloc7povrdfc4cr2u1g/1587333150000/12463928819926971683/15613863901798042882Z/1XQ-RfUG1C_6LUZdRUe9nAU77I_AZFH-F?e=download&nonce=qhkff8t7nq330&user=15613863901798042882Z&hash=36kjsqvss8uke2rlcj3aqafndjubng8s\n",
            "Connecting to doc-0g-9g-docs.googleusercontent.com (doc-0g-9g-docs.googleusercontent.com)|74.125.124.132|:443... connected.\n",
            "HTTP request sent, awaiting response... 200 OK\n",
            "Length: 48423 (47K) [text/csv]\n",
            "Saving to: ‘train.csv’\n",
            "\n",
            "train.csv           100%[===================>]  47.29K  --.-KB/s    in 0s      \n",
            "\n",
            "2020-04-19 21:52:31 (125 MB/s) - ‘train.csv’ saved [48423/48423]\n",
            "\n"
          ],
          "name": "stdout"
        }
      ]
    },
    {
      "cell_type": "code",
      "metadata": {
        "id": "1Z9Favz19VB0",
        "colab_type": "code",
        "colab": {}
      },
      "source": [
        "!unzip -qq -n images.zip"
      ],
      "execution_count": 0,
      "outputs": []
    },
    {
      "cell_type": "markdown",
      "metadata": {
        "id": "K-rKeH8e8KOp",
        "colab_type": "text"
      },
      "source": [
        "# Splitting the data into train and test sets"
      ]
    },
    {
      "cell_type": "code",
      "metadata": {
        "id": "xmINQqp08Y0c",
        "colab_type": "code",
        "colab": {}
      },
      "source": [
        "import pandas as pd\n",
        "import os\n",
        "train = pd.read_csv('all_data/train.csv')\n",
        "\n",
        "train_images_list = train['image'].tolist()\n",
        "\n",
        "images_list = os.listdir(\"all_data/images\")\n",
        "\n",
        "test_images_list = [fn for fn in images_list if fn not in train_images_list]"
      ],
      "execution_count": 0,
      "outputs": []
    },
    {
      "cell_type": "markdown",
      "metadata": {
        "id": "IlclmXx93GFT",
        "colab_type": "text"
      },
      "source": [
        "# Importing libraries"
      ]
    },
    {
      "cell_type": "code",
      "metadata": {
        "id": "GhREHBRvVFbP",
        "colab_type": "code",
        "colab": {}
      },
      "source": [
        "from pathlib import Path\n",
        "\n",
        "from fastai.basic_data import DatasetType\n",
        "from fastai.callbacks import SaveModelCallback\n",
        "from fastai.metrics import accuracy\n",
        "from fastai.train import ClassificationInterpretation\n",
        "from fastai.vision.data import ImageList\n",
        "from fastai.vision.learner import cnn_learner\n",
        "from fastai.vision.models import resnet18\n",
        "from fastai.vision.transform import ResizeMethod, get_transforms\n",
        "from fastai.vision import imagenet_stats\n",
        "\n",
        "import pandas as pd"
      ],
      "execution_count": 0,
      "outputs": []
    },
    {
      "cell_type": "code",
      "metadata": {
        "id": "u35oKqekaJdG",
        "colab_type": "code",
        "colab": {}
      },
      "source": [
        "path = Path('all_data')\n",
        "il = ImageList.from_csv(path, 'train.csv', folder='images')\n",
        "sd = il.split_by_rand_pct(0.15)\n",
        "ll = sd.label_from_df()\n",
        "ll = ll.transform(get_transforms(), size=224)\n",
        "data = ll.databunch(bs=64).normalize(imagenet_stats)"
      ],
      "execution_count": 0,
      "outputs": []
    },
    {
      "cell_type": "code",
      "metadata": {
        "id": "sSvjfoFMaZea",
        "colab_type": "code",
        "colab": {}
      },
      "source": [
        "data"
      ],
      "execution_count": 0,
      "outputs": []
    },
    {
      "cell_type": "code",
      "metadata": {
        "id": "hon7NVGddrDq",
        "colab_type": "code",
        "colab": {}
      },
      "source": [
        "il"
      ],
      "execution_count": 0,
      "outputs": []
    },
    {
      "cell_type": "code",
      "metadata": {
        "id": "Zp1VD5zQ5FUt",
        "colab_type": "code",
        "outputId": "664c5327-9d9e-4f56-8dc8-e21f90afc4e7",
        "colab": {
          "base_uri": "https://localhost:8080/",
          "height": 204
        }
      },
      "source": [
        "import csv\n",
        "# Check to see if sample_sub_v2.csv is downloaded\n",
        "test_csv2 = pd.read_csv('all_data/sample_sub_v2.csv')\n",
        "test_csv2.head()\n"
      ],
      "execution_count": 0,
      "outputs": [
        {
          "output_type": "execute_result",
          "data": {
            "text/html": [
              "<div>\n",
              "<style scoped>\n",
              "    .dataframe tbody tr th:only-of-type {\n",
              "        vertical-align: middle;\n",
              "    }\n",
              "\n",
              "    .dataframe tbody tr th {\n",
              "        vertical-align: top;\n",
              "    }\n",
              "\n",
              "    .dataframe thead th {\n",
              "        text-align: right;\n",
              "    }\n",
              "</style>\n",
              "<table border=\"1\" class=\"dataframe\">\n",
              "  <thead>\n",
              "    <tr style=\"text-align: right;\">\n",
              "      <th></th>\n",
              "      <th>image</th>\n",
              "      <th>target</th>\n",
              "    </tr>\n",
              "  </thead>\n",
              "  <tbody>\n",
              "    <tr>\n",
              "      <th>0</th>\n",
              "      <td>aadawlxbmapqrblgxyzarhjasgiobu.png</td>\n",
              "      <td>0</td>\n",
              "    </tr>\n",
              "    <tr>\n",
              "      <th>1</th>\n",
              "      <td>abpxvdfyhaaohzcrngcucmhffwizxs.jpg</td>\n",
              "      <td>0</td>\n",
              "    </tr>\n",
              "    <tr>\n",
              "      <th>2</th>\n",
              "      <td>aclkjfvackiieiznzfcwienplielrj.jpg</td>\n",
              "      <td>0</td>\n",
              "    </tr>\n",
              "    <tr>\n",
              "      <th>3</th>\n",
              "      <td>aelkivmayxgsdjosiibfgmkvfrjvjk.jpg</td>\n",
              "      <td>0</td>\n",
              "    </tr>\n",
              "    <tr>\n",
              "      <th>4</th>\n",
              "      <td>aelzzshpfxerelefnkatpczktuxjln.jpg</td>\n",
              "      <td>0</td>\n",
              "    </tr>\n",
              "  </tbody>\n",
              "</table>\n",
              "</div>"
            ],
            "text/plain": [
              "                                image  target\n",
              "0  aadawlxbmapqrblgxyzarhjasgiobu.png       0\n",
              "1  abpxvdfyhaaohzcrngcucmhffwizxs.jpg       0\n",
              "2  aclkjfvackiieiznzfcwienplielrj.jpg       0\n",
              "3  aelkivmayxgsdjosiibfgmkvfrjvjk.jpg       0\n",
              "4  aelzzshpfxerelefnkatpczktuxjln.jpg       0"
            ]
          },
          "metadata": {
            "tags": []
          },
          "execution_count": 8
        }
      ]
    },
    {
      "cell_type": "code",
      "metadata": {
        "id": "ixY-OHRanO6o",
        "colab_type": "code",
        "colab": {}
      },
      "source": [
        "test = (ImageList.from_csv(path, 'sample_sub_v2.csv', folder='images'))\n",
        "data.add_test(test)"
      ],
      "execution_count": 0,
      "outputs": []
    },
    {
      "cell_type": "code",
      "metadata": {
        "id": "DVqz3Wb0oLjz",
        "colab_type": "code",
        "colab": {}
      },
      "source": [
        "data"
      ],
      "execution_count": 0,
      "outputs": []
    },
    {
      "cell_type": "code",
      "metadata": {
        "id": "HFvLBLvBoXSU",
        "colab_type": "code",
        "colab": {}
      },
      "source": [
        "data.show_batch(3)"
      ],
      "execution_count": 0,
      "outputs": []
    },
    {
      "cell_type": "code",
      "metadata": {
        "id": "MRA8GtvH6X5I",
        "colab_type": "code",
        "outputId": "024eff27-2f39-4360-ea15-710ba7d453c8",
        "colab": {
          "base_uri": "https://localhost:8080/",
          "height": 103,
          "referenced_widgets": [
            "b95e4611735342b8995bc033ec20595a",
            "6e8fdd998f2d4f728808e2901ba38812",
            "52c2f24e2f2e477c97ca52bd518f2877",
            "244c8ba22d6844b89b5bf804d020b7fc",
            "6e838bf5abbf4e529d41904891cd41cf",
            "379e74b88bce48869122ab7ab0b09703",
            "fd92c05573a444988300f5307ecd1861",
            "5cdce438547941ef8cdffa264cd0f8c9"
          ]
        }
      },
      "source": [
        "learn = cnn_learner(data, resnet18, metrics=accuracy)"
      ],
      "execution_count": 0,
      "outputs": [
        {
          "output_type": "stream",
          "text": [
            "Downloading: \"https://download.pytorch.org/models/resnet18-5c106cde.pth\" to /root/.cache/torch/checkpoints/resnet18-5c106cde.pth\n"
          ],
          "name": "stderr"
        },
        {
          "output_type": "display_data",
          "data": {
            "application/vnd.jupyter.widget-view+json": {
              "model_id": "b95e4611735342b8995bc033ec20595a",
              "version_minor": 0,
              "version_major": 2
            },
            "text/plain": [
              "HBox(children=(IntProgress(value=0, max=46827520), HTML(value='')))"
            ]
          },
          "metadata": {
            "tags": []
          }
        },
        {
          "output_type": "stream",
          "text": [
            "\n"
          ],
          "name": "stdout"
        }
      ]
    },
    {
      "cell_type": "code",
      "metadata": {
        "id": "iKMt5yAT-61U",
        "colab_type": "code",
        "colab": {}
      },
      "source": [
        "learn.loss_func"
      ],
      "execution_count": 0,
      "outputs": []
    },
    {
      "cell_type": "code",
      "metadata": {
        "id": "4CSCgEqwrMbg",
        "colab_type": "code",
        "outputId": "fa6b7cdb-e058-4b8a-e605-f4202c98fd92",
        "colab": {
          "base_uri": "https://localhost:8080/",
          "height": 34
        }
      },
      "source": [
        "learn.opt_func"
      ],
      "execution_count": 0,
      "outputs": [
        {
          "output_type": "execute_result",
          "data": {
            "text/plain": [
              "functools.partial(<class 'torch.optim.adam.Adam'>, betas=(0.9, 0.99))"
            ]
          },
          "metadata": {
            "tags": []
          },
          "execution_count": 20
        }
      ]
    },
    {
      "cell_type": "code",
      "metadata": {
        "id": "t2Ifj9EjrT1q",
        "colab_type": "code",
        "outputId": "d7f14af6-05e6-44d4-81cc-92b36252b2ce",
        "colab": {
          "base_uri": "https://localhost:8080/",
          "height": 531
        }
      },
      "source": [
        "\n",
        "learn.lr_find()\n",
        "learn.recorder.plot()"
      ],
      "execution_count": 0,
      "outputs": [
        {
          "output_type": "display_data",
          "data": {
            "text/html": [
              "\n",
              "    <div>\n",
              "        <style>\n",
              "            /* Turns off some styling */\n",
              "            progress {\n",
              "                /* gets rid of default border in Firefox and Opera. */\n",
              "                border: none;\n",
              "                /* Needs to be in here for Safari polyfill so background images work as expected. */\n",
              "                background-size: auto;\n",
              "            }\n",
              "            .progress-bar-interrupted, .progress-bar-interrupted::-webkit-progress-bar {\n",
              "                background: #F44336;\n",
              "            }\n",
              "        </style>\n",
              "      <progress value='5' class='' max='6' style='width:300px; height:20px; vertical-align: middle;'></progress>\n",
              "      83.33% [5/6 19:32<03:54]\n",
              "    </div>\n",
              "    \n",
              "<table border=\"1\" class=\"dataframe\">\n",
              "  <thead>\n",
              "    <tr style=\"text-align: left;\">\n",
              "      <th>epoch</th>\n",
              "      <th>train_loss</th>\n",
              "      <th>valid_loss</th>\n",
              "      <th>accuracy</th>\n",
              "      <th>time</th>\n",
              "    </tr>\n",
              "  </thead>\n",
              "  <tbody>\n",
              "    <tr>\n",
              "      <td>0</td>\n",
              "      <td>1.447791</td>\n",
              "      <td>#na#</td>\n",
              "      <td>03:56</td>\n",
              "    </tr>\n",
              "    <tr>\n",
              "      <td>1</td>\n",
              "      <td>1.356347</td>\n",
              "      <td>#na#</td>\n",
              "      <td>03:55</td>\n",
              "    </tr>\n",
              "    <tr>\n",
              "      <td>2</td>\n",
              "      <td>1.128063</td>\n",
              "      <td>#na#</td>\n",
              "      <td>03:57</td>\n",
              "    </tr>\n",
              "    <tr>\n",
              "      <td>3</td>\n",
              "      <td>0.815370</td>\n",
              "      <td>#na#</td>\n",
              "      <td>03:51</td>\n",
              "    </tr>\n",
              "    <tr>\n",
              "      <td>4</td>\n",
              "      <td>1.165884</td>\n",
              "      <td>#na#</td>\n",
              "      <td>03:51</td>\n",
              "    </tr>\n",
              "  </tbody>\n",
              "</table><p>\n",
              "\n",
              "    <div>\n",
              "        <style>\n",
              "            /* Turns off some styling */\n",
              "            progress {\n",
              "                /* gets rid of default border in Firefox and Opera. */\n",
              "                border: none;\n",
              "                /* Needs to be in here for Safari polyfill so background images work as expected. */\n",
              "                background-size: auto;\n",
              "            }\n",
              "            .progress-bar-interrupted, .progress-bar-interrupted::-webkit-progress-bar {\n",
              "                background: #F44336;\n",
              "            }\n",
              "        </style>\n",
              "      <progress value='2' class='' max='17' style='width:300px; height:20px; vertical-align: middle;'></progress>\n",
              "      11.76% [2/17 00:34<04:16 1.9320]\n",
              "    </div>\n",
              "    "
            ],
            "text/plain": [
              "<IPython.core.display.HTML object>"
            ]
          },
          "metadata": {
            "tags": []
          }
        },
        {
          "output_type": "stream",
          "text": [
            "LR Finder is complete, type {learner_name}.recorder.plot() to see the graph.\n"
          ],
          "name": "stdout"
        },
        {
          "output_type": "display_data",
          "data": {
            "image/png": "[encoded data removed]",
            "text/plain": [
              "<Figure size 432x288 with 1 Axes>"
            ]
          },
          "metadata": {
            "tags": [],
            "needs_background": "light"
          }
        }
      ]
    },
    {
      "cell_type": "code",
      "metadata": {
        "id": "sUXTMaqMxLND",
        "colab_type": "code",
        "colab": {}
      },
      "source": [
        "lr = 1e-2"
      ],
      "execution_count": 0,
      "outputs": []
    },
    {
      "cell_type": "code",
      "metadata": {
        "id": "qFin5EsFyfNK",
        "colab_type": "code",
        "outputId": "752cff8f-b386-4a63-c25d-7ad2aa355cac",
        "colab": {
          "base_uri": "https://localhost:8080/",
          "height": 111
        }
      },
      "source": [
        "l\n",
        "#learn.fit_one_cycle(3, lr)"
      ],
      "execution_count": 0,
      "outputs": [
        {
          "output_type": "display_data",
          "data": {
            "text/html": [
              "<table border=\"1\" class=\"dataframe\">\n",
              "  <thead>\n",
              "    <tr style=\"text-align: left;\">\n",
              "      <th>epoch</th>\n",
              "      <th>train_loss</th>\n",
              "      <th>valid_loss</th>\n",
              "      <th>accuracy</th>\n",
              "      <th>time</th>\n",
              "    </tr>\n",
              "  </thead>\n",
              "  <tbody>\n",
              "    <tr>\n",
              "      <td>0</td>\n",
              "      <td>0.547994</td>\n",
              "      <td>0.459113</td>\n",
              "      <td>0.923469</td>\n",
              "      <td>04:21</td>\n",
              "    </tr>\n",
              "    <tr>\n",
              "      <td>1</td>\n",
              "      <td>0.325723</td>\n",
              "      <td>0.126825</td>\n",
              "      <td>0.964286</td>\n",
              "      <td>04:15</td>\n",
              "    </tr>\n",
              "  </tbody>\n",
              "</table>"
            ],
            "text/plain": [
              "<IPython.core.display.HTML object>"
            ]
          },
          "metadata": {
            "tags": []
          }
        }
      ]
    },
    {
      "cell_type": "code",
      "metadata": {
        "id": "dlQVDSLKWCd1",
        "colab_type": "code",
        "outputId": "fc80201f-da32-4591-bb04-e4ba6f912dbe",
        "colab": {
          "base_uri": "https://localhost:8080/",
          "height": 111
        }
      },
      "source": [
        "learn.fit_one_cycle(2, slice(lr/10,lr)) # best solution has epochs = 2, lr = 1e-2"
      ],
      "execution_count": 0,
      "outputs": [
        {
          "output_type": "display_data",
          "data": {
            "text/html": [
              "<table border=\"1\" class=\"dataframe\">\n",
              "  <thead>\n",
              "    <tr style=\"text-align: left;\">\n",
              "      <th>epoch</th>\n",
              "      <th>train_loss</th>\n",
              "      <th>valid_loss</th>\n",
              "      <th>accuracy</th>\n",
              "      <th>time</th>\n",
              "    </tr>\n",
              "  </thead>\n",
              "  <tbody>\n",
              "    <tr>\n",
              "      <td>0</td>\n",
              "      <td>0.889301</td>\n",
              "      <td>2.023086</td>\n",
              "      <td>0.877551</td>\n",
              "      <td>03:43</td>\n",
              "    </tr>\n",
              "    <tr>\n",
              "      <td>1</td>\n",
              "      <td>0.825825</td>\n",
              "      <td>0.969390</td>\n",
              "      <td>0.918367</td>\n",
              "      <td>03:36</td>\n",
              "    </tr>\n",
              "  </tbody>\n",
              "</table>"
            ],
            "text/plain": [
              "<IPython.core.display.HTML object>"
            ]
          },
          "metadata": {
            "tags": []
          }
        }
      ]
    },
    {
      "cell_type": "code",
      "metadata": {
        "id": "YR0EfZG61HBH",
        "colab_type": "code",
        "outputId": "defd3844-6ef2-445c-ec6c-b44eb7019c66",
        "colab": {
          "base_uri": "https://localhost:8080/",
          "height": 17
        }
      },
      "source": [
        "preds, y = learn.get_preds(DatasetType.Test)"
      ],
      "execution_count": 0,
      "outputs": [
        {
          "output_type": "display_data",
          "data": {
            "text/html": [
              ""
            ],
            "text/plain": [
              "<IPython.core.display.HTML object>"
            ]
          },
          "metadata": {
            "tags": []
          }
        }
      ]
    },
    {
      "cell_type": "code",
      "metadata": {
        "id": "bxD7A8JY1pUB",
        "colab_type": "code",
        "outputId": "49f1431d-f1ee-481e-cb35-e2cd61395120",
        "colab": {
          "base_uri": "https://localhost:8080/",
          "height": 1000
        }
      },
      "source": [
        "preds[:, 1]"
      ],
      "execution_count": 0,
      "outputs": [
        {
          "output_type": "execute_result",
          "data": {
            "text/plain": [
              "tensor([6.9619e-01, 4.7600e-03, 1.0000e+00, 9.8950e-01, 1.3949e-07, 4.5408e-10,\n",
              "        1.0000e+00, 1.2621e-02, 2.7212e-10, 1.0000e+00, 9.4074e-09, 1.2605e-09,\n",
              "        1.0000e+00, 1.0000e+00, 9.9948e-01, 4.5299e-07, 7.8784e-01, 1.0000e+00,\n",
              "        9.1099e-02, 1.0000e+00, 1.7374e-02, 1.2950e-08, 1.0000e+00, 3.1917e-06,\n",
              "        4.2593e-05, 9.8871e-01, 1.0000e+00, 1.1732e-06, 1.0000e+00, 1.0000e+00,\n",
              "        2.0987e-01, 1.2031e-01, 1.0000e+00, 9.9688e-01, 1.0000e+00, 2.1701e-08,\n",
              "        6.0741e-08, 1.0000e+00, 2.2991e-07, 1.0000e+00, 9.9989e-01, 1.0000e+00,\n",
              "        2.6774e-02, 3.8771e-06, 1.0000e+00, 9.4541e-10, 9.9999e-01, 9.9996e-01,\n",
              "        9.9887e-01, 1.6409e-04, 5.8993e-09, 1.0000e+00, 1.0000e+00, 9.9944e-01,\n",
              "        9.9988e-01, 2.8495e-07, 1.4060e-05, 1.0000e+00, 2.6996e-09, 9.9997e-01,\n",
              "        5.5410e-06, 1.7094e-05, 6.9861e-06, 9.9999e-01, 2.4011e-02, 1.0000e+00,\n",
              "        9.9896e-01, 9.8220e-01, 9.9990e-01, 1.0000e+00, 3.3123e-07, 9.0977e-08,\n",
              "        9.9956e-01, 2.5150e-09, 4.2035e-08, 9.9970e-01, 3.5387e-04, 4.6776e-07,\n",
              "        9.9993e-01, 8.6706e-07, 3.8256e-05, 1.0000e+00, 1.0000e+00, 1.0604e-04,\n",
              "        5.4324e-06, 1.9969e-07, 1.5886e-06, 1.7310e-04, 5.8945e-07, 1.0000e+00,\n",
              "        9.9997e-01, 1.0000e+00, 7.1633e-03, 1.4246e-06, 1.1129e-07, 1.0000e+00,\n",
              "        1.9935e-06, 1.6524e-06, 1.0000e+00, 4.1170e-05, 1.3236e-08, 9.9996e-01,\n",
              "        8.8861e-09, 5.0156e-06, 4.0545e-06, 1.0000e+00, 1.0000e+00, 1.0000e+00,\n",
              "        1.0000e+00, 3.2915e-03, 1.8956e-06, 1.0715e-07, 1.0000e+00, 1.1441e-05,\n",
              "        1.5022e-08, 3.9026e-04, 1.0000e+00, 1.7130e-05, 1.0000e+00, 1.0000e+00,\n",
              "        1.8568e-05, 6.4386e-01, 8.4368e-05, 1.5709e-08, 9.5991e-06, 2.0725e-06,\n",
              "        9.9999e-01, 2.3257e-02, 4.0830e-04, 5.6287e-07, 1.6955e-03, 9.9994e-01,\n",
              "        1.0653e-08, 6.9834e-07, 1.8256e-07, 1.0000e+00, 8.9693e-01, 7.8303e-07,\n",
              "        1.1064e-04, 6.6257e-06, 1.1235e-05, 3.3182e-08, 1.5991e-03, 7.0691e-04,\n",
              "        6.0429e-09, 9.9999e-01, 7.0436e-08, 1.0000e+00, 1.0000e+00, 1.7575e-07,\n",
              "        1.0000e+00, 1.3201e-04, 5.7666e-05, 9.8536e-01, 1.2667e-04, 1.3927e-03,\n",
              "        1.0000e+00, 9.9993e-01, 1.8993e-09, 9.9983e-01, 8.5217e-06, 1.0000e+00,\n",
              "        9.9010e-01, 9.5579e-01, 1.0000e+00, 1.0000e+00, 1.0000e+00, 2.4215e-01,\n",
              "        1.0000e+00, 1.7276e-04, 1.0000e+00, 9.9996e-01, 4.6844e-08, 1.0000e+00,\n",
              "        3.8588e-06, 5.8155e-09, 2.9349e-09, 9.9516e-05, 3.8309e-04, 1.0000e+00,\n",
              "        7.4346e-07, 1.0000e+00, 6.8046e-05, 2.9879e-07, 1.0000e+00, 9.9998e-01,\n",
              "        1.0000e+00, 9.9995e-01, 6.9747e-08, 1.0000e+00, 1.2384e-06, 1.0000e+00,\n",
              "        9.9999e-01, 1.0000e+00, 9.9998e-01, 1.5158e-06, 2.2641e-06, 7.2761e-04,\n",
              "        9.9955e-01, 1.0000e+00, 8.7973e-09, 4.6713e-07, 9.9999e-01, 3.2901e-08,\n",
              "        4.2863e-07, 1.1897e-03, 9.2989e-04, 2.7119e-05, 1.0000e+00, 9.9994e-01,\n",
              "        1.0000e+00, 1.0000e+00, 1.0000e+00, 8.3168e-06, 9.9999e-01, 9.9430e-01,\n",
              "        5.1900e-05, 1.2914e-06, 8.3862e-06, 7.2057e-01, 1.4829e-07, 9.9998e-01,\n",
              "        4.6386e-09, 9.9787e-01, 9.9997e-01, 1.5242e-08, 1.0000e+00, 2.6391e-08,\n",
              "        4.9816e-08, 1.0000e+00, 5.7152e-03, 1.0000e+00, 9.9997e-01, 4.1629e-08,\n",
              "        6.3233e-06, 1.2999e-06, 2.2554e-07, 1.2130e-06, 8.3390e-02, 9.9828e-01,\n",
              "        1.7691e-07, 9.7388e-10, 5.4033e-07, 7.3688e-07, 1.0000e+00, 9.9803e-01,\n",
              "        7.7416e-08, 2.0339e-08, 1.3079e-05, 2.5177e-06, 9.9994e-01, 8.0842e-11,\n",
              "        2.3047e-09, 1.0000e+00, 1.0000e+00, 1.0000e+00, 9.9813e-01, 1.0000e+00,\n",
              "        4.6481e-05, 9.9995e-01, 9.9999e-01, 9.8314e-01, 9.8076e-01, 6.1442e-02,\n",
              "        9.9690e-01, 1.0000e+00, 1.6037e-02, 1.2804e-09, 1.0000e+00, 1.0000e+00,\n",
              "        1.0000e+00, 8.9409e-07, 5.0324e-01, 1.0184e-05, 1.0000e+00, 2.2180e-01,\n",
              "        1.0000e+00, 1.4376e-04, 1.0000e+00, 9.9894e-01, 9.9960e-01, 7.8573e-10,\n",
              "        1.0000e+00, 2.9792e-07, 1.0000e+00, 9.3761e-01, 3.1996e-01, 2.8046e-05,\n",
              "        1.3856e-10, 9.2423e-06, 9.9971e-01, 1.0000e+00, 1.0000e+00, 9.9999e-01,\n",
              "        2.8303e-08, 9.9997e-01, 3.8802e-05, 1.0000e+00, 8.5011e-01, 1.0000e+00,\n",
              "        1.0316e-07, 1.0000e+00, 1.2854e-05, 2.2220e-07, 9.8945e-01, 9.9929e-01,\n",
              "        1.0000e+00, 1.0000e+00, 1.0000e+00, 3.3876e-04, 2.4094e-07, 1.0000e+00,\n",
              "        1.0000e+00, 4.8679e-09, 9.9924e-01, 9.9990e-01, 1.7208e-09, 1.0000e+00,\n",
              "        1.0000e+00, 1.0000e+00, 2.4732e-04, 5.5230e-02, 9.9966e-01, 1.0000e+00,\n",
              "        3.4399e-07, 1.2179e-06, 9.9989e-01, 1.4395e-05, 7.0204e-04, 9.9867e-01,\n",
              "        9.9999e-01, 1.0000e+00, 4.0267e-01, 9.9833e-01, 9.9826e-01, 1.0000e+00,\n",
              "        1.8382e-08, 1.0000e+00, 4.6398e-01, 1.0000e+00, 9.9995e-01, 2.5361e-06,\n",
              "        1.0000e+00, 9.9995e-01, 7.5594e-08, 1.0000e+00, 1.0000e+00, 1.0000e+00,\n",
              "        7.7223e-01, 1.0000e+00, 1.0000e+00, 1.0000e+00, 1.0000e+00, 3.4206e-05,\n",
              "        4.9970e-08, 9.9575e-01, 1.7326e-03, 9.9925e-01, 1.0000e+00, 7.3589e-01,\n",
              "        1.0000e+00, 1.0000e+00, 7.1819e-02, 1.0000e+00, 1.5250e-07, 1.0000e+00,\n",
              "        9.9984e-01, 1.0000e+00, 7.4685e-01, 9.9999e-01, 5.1565e-06, 7.1689e-01,\n",
              "        9.6638e-03, 2.7863e-05, 1.5860e-09, 7.9263e-08, 1.6585e-07, 9.9999e-01,\n",
              "        1.3252e-06, 9.9989e-01, 1.0000e+00, 3.0598e-06, 2.5024e-09, 2.0732e-08,\n",
              "        1.2667e-07, 4.1876e-02, 2.2813e-03, 2.1091e-06, 4.6106e-07, 9.9972e-01,\n",
              "        6.9464e-01, 1.0000e+00, 2.6433e-01, 9.9263e-01, 3.4791e-03, 1.0000e+00,\n",
              "        2.8326e-08, 1.2035e-05, 1.0000e+00, 4.3310e-09, 1.0000e+00, 5.6124e-01,\n",
              "        2.6146e-03, 8.8732e-05, 1.0000e+00, 1.0000e+00, 1.2742e-08, 7.1955e-05,\n",
              "        2.1821e-06, 8.8682e-03, 1.3306e-03, 9.9970e-01, 9.9998e-01, 1.0000e+00,\n",
              "        1.0000e+00, 9.9976e-01, 9.9183e-08, 3.3725e-06, 9.9998e-01, 1.1226e-01,\n",
              "        1.0000e+00, 1.0000e+00, 9.9368e-01, 2.0031e-06, 3.1037e-07, 9.9987e-01,\n",
              "        1.0000e+00, 1.0000e+00, 2.2937e-06, 9.9997e-01, 9.3135e-06, 5.6809e-05,\n",
              "        8.4816e-01, 4.8672e-09, 4.1839e-03, 9.9999e-01, 9.7118e-01, 1.0000e+00,\n",
              "        9.9998e-01, 1.0000e+00, 1.0876e-05, 3.6416e-07, 7.4582e-04, 6.3515e-02,\n",
              "        1.0000e+00, 1.8745e-06, 1.8595e-04, 1.1366e-09, 4.0678e-08, 1.0000e+00,\n",
              "        6.5166e-04, 1.0000e+00, 1.0000e+00, 1.0000e+00, 2.5224e-06, 1.2677e-05,\n",
              "        4.3735e-02, 1.0588e-07, 1.0000e+00, 1.0000e+00, 9.9999e-01, 1.0000e+00,\n",
              "        9.8090e-01, 9.9998e-01, 3.9711e-08, 6.1981e-06, 1.0000e+00, 1.0000e+00,\n",
              "        5.8200e-09, 6.4570e-03, 1.0603e-06, 1.3146e-04, 1.0000e+00, 6.9118e-10,\n",
              "        9.5967e-07, 1.0000e+00, 1.0000e+00, 9.9618e-01, 2.3725e-06, 1.0000e+00,\n",
              "        8.3343e-03, 7.3676e-09, 1.0000e+00, 1.4269e-07, 2.1508e-06, 1.0000e+00,\n",
              "        3.5829e-03, 6.7787e-06, 8.9794e-06, 3.2848e-08, 9.9594e-06, 1.3474e-08,\n",
              "        9.3430e-01, 9.9108e-09, 8.0210e-09, 7.3354e-05, 1.0000e+00, 9.9467e-01,\n",
              "        4.9077e-07, 9.9970e-01, 1.0000e+00, 9.9959e-01, 2.1579e-10, 3.8933e-01,\n",
              "        3.3931e-06, 4.4122e-03, 6.3577e-04, 1.0000e+00, 1.3099e-01])"
            ]
          },
          "metadata": {
            "tags": []
          },
          "execution_count": 40
        }
      ]
    },
    {
      "cell_type": "markdown",
      "metadata": {
        "id": "4zF8RSkw2CTc",
        "colab_type": "text"
      },
      "source": [
        "# submissions"
      ]
    },
    {
      "cell_type": "code",
      "metadata": {
        "id": "OJxvtiMfNOiy",
        "colab_type": "code",
        "colab": {}
      },
      "source": [
        "list_test = test_csv2['image'].tolist()"
      ],
      "execution_count": 0,
      "outputs": []
    },
    {
      "cell_type": "code",
      "metadata": {
        "id": "fkbN90i22KNq",
        "colab_type": "code",
        "colab": {}
      },
      "source": [
        "subm = pd.DataFrame({'image': list_test, 'target': preds[:, 1]})"
      ],
      "execution_count": 0,
      "outputs": []
    },
    {
      "cell_type": "code",
      "metadata": {
        "id": "iJi2NvJtVqD0",
        "colab_type": "code",
        "outputId": "3da1f328-de41-4622-e311-868149ba3a87",
        "colab": {
          "base_uri": "https://localhost:8080/",
          "height": 204
        }
      },
      "source": [
        "subm.head()"
      ],
      "execution_count": 0,
      "outputs": [
        {
          "output_type": "execute_result",
          "data": {
            "text/html": [
              "<div>\n",
              "<style scoped>\n",
              "    .dataframe tbody tr th:only-of-type {\n",
              "        vertical-align: middle;\n",
              "    }\n",
              "\n",
              "    .dataframe tbody tr th {\n",
              "        vertical-align: top;\n",
              "    }\n",
              "\n",
              "    .dataframe thead th {\n",
              "        text-align: right;\n",
              "    }\n",
              "</style>\n",
              "<table border=\"1\" class=\"dataframe\">\n",
              "  <thead>\n",
              "    <tr style=\"text-align: right;\">\n",
              "      <th></th>\n",
              "      <th>image</th>\n",
              "      <th>target</th>\n",
              "    </tr>\n",
              "  </thead>\n",
              "  <tbody>\n",
              "    <tr>\n",
              "      <th>0</th>\n",
              "      <td>aadawlxbmapqrblgxyzarhjasgiobu.png</td>\n",
              "      <td>7.651674e-01</td>\n",
              "    </tr>\n",
              "    <tr>\n",
              "      <th>1</th>\n",
              "      <td>abpxvdfyhaaohzcrngcucmhffwizxs.jpg</td>\n",
              "      <td>5.579186e-24</td>\n",
              "    </tr>\n",
              "    <tr>\n",
              "      <th>2</th>\n",
              "      <td>aclkjfvackiieiznzfcwienplielrj.jpg</td>\n",
              "      <td>9.999989e-01</td>\n",
              "    </tr>\n",
              "    <tr>\n",
              "      <th>3</th>\n",
              "      <td>aelkivmayxgsdjosiibfgmkvfrjvjk.jpg</td>\n",
              "      <td>9.999999e-01</td>\n",
              "    </tr>\n",
              "    <tr>\n",
              "      <th>4</th>\n",
              "      <td>aelzzshpfxerelefnkatpczktuxjln.jpg</td>\n",
              "      <td>3.033006e-15</td>\n",
              "    </tr>\n",
              "  </tbody>\n",
              "</table>\n",
              "</div>"
            ],
            "text/plain": [
              "                                image        target\n",
              "0  aadawlxbmapqrblgxyzarhjasgiobu.png  7.651674e-01\n",
              "1  abpxvdfyhaaohzcrngcucmhffwizxs.jpg  5.579186e-24\n",
              "2  aclkjfvackiieiznzfcwienplielrj.jpg  9.999989e-01\n",
              "3  aelkivmayxgsdjosiibfgmkvfrjvjk.jpg  9.999999e-01\n",
              "4  aelzzshpfxerelefnkatpczktuxjln.jpg  3.033006e-15"
            ]
          },
          "metadata": {
            "tags": []
          },
          "execution_count": 16
        }
      ]
    },
    {
      "cell_type": "code",
      "metadata": {
        "id": "rD1C1YNW2Qsj",
        "colab_type": "code",
        "colab": {}
      },
      "source": [
        "subm.to_csv('ss.csv', index=None)"
      ],
      "execution_count": 0,
      "outputs": []
    },
    {
      "cell_type": "code",
      "metadata": {
        "id": "6-jtBpSj35pM",
        "colab_type": "code",
        "colab": {}
      },
      "source": [
        "from google.colab import files\n",
        "\n",
        "files.download('ss.csv')"
      ],
      "execution_count": 0,
      "outputs": []
    }
  ]
}